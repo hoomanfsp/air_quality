{
 "cells": [
  {
   "cell_type": "markdown",
   "metadata": {},
   "source": [
    "# Air Quality Analysis across European Cities\n",
    "# =======================================\n",
    "\n",
    "This notebook demonstrates how to analyze air quality data from three European cities:\n",
    "Antwerp, Paris, and London. We'll cover data loading, cleaning, visualization, and basic analysis."
   ]
  },
  {
   "cell_type": "markdown",
   "metadata": {},
   "source": [
    "## 1. Setting up the Environment\n",
    "First, let's import the necessary libraries"
   ]
  },
  {
   "cell_type": "code",
   "execution_count": null,
   "metadata": {},
   "outputs": [],
   "source": [
    "import pandas as pd\n",
    "import numpy as np\n",
    "import matplotlib.pyplot as plt\n",
    "import seaborn as sns\n",
    "\n",
    "# Set plot style for better visualization\n",
    "plt.style.use('seaborn-v0_8-whitegrid')\n",
    "sns.set_palette(\"muted\")\n",
    "sns.set_context(\"notebook\", font_scale=1.2)\n",
    "\n",
    "print(\"Environment setup complete!\")"
   ]
  },
  {
   "cell_type": "markdown",
   "metadata": {},
   "source": [
    "## 2. Loading the Data\n",
    "Now we'll load the dataset from the CSV file"
   ]
  },
  {
   "cell_type": "code",
   "execution_count": null,
   "metadata": {},
   "outputs": [],
   "source": [
    "# Load the dataset from the CSV file\n",
    "# The file name is air_quality_no2.csv which contains NO2 measurements\n",
    "file_path = 'air_quality_no2.csv'\n",
    "df = pd.read_csv(file_path)\n",
    "\n",
    "# Let's check the first few rows to understand the data\n",
    "print(\"First few rows of the dataset:\")\n",
    "df.head()"
   ]
  },
  {
   "cell_type": "markdown",
   "metadata": {},
   "source": [
    "Let's convert the datetime column to the proper format"
   ]
  },
  {
   "cell_type": "code",
   "execution_count": null,
   "metadata": {},
   "outputs": [],
   "source": [
    "# Convert datetime string to datetime object\n",
    "df['datetime'] = pd.to_datetime(df['datetime'])\n",
    "\n",
    "# Display the dataset\n",
    "print(\"Air Quality Dataset with datetime converted:\")\n",
    "df"
   ]
  },
  {
   "cell_type": "markdown",
   "metadata": {},
   "source": [
    "## 3. Data Cleaning and Preparation\n",
    "Let's check for missing values and prepare our data for analysis"
   ]
  },
  {
   "cell_type": "code",
   "execution_count": null,
   "metadata": {},
   "outputs": [],
   "source": [
    "# Let's check for missing values\n",
    "print(\"Missing Values per Column:\")\n",
    "missing_values = df.isna().sum()\n",
    "missing_values"
   ]
  },
  {
   "cell_type": "code",
   "execution_count": null,
   "metadata": {},
   "outputs": [],
   "source": [
    "# Let's create a cleaner version for visualization, filling missing values with NaN\n",
    "df_clean = df.copy()\n",
    "\n",
    "# Set the datetime as index for time series analysis\n",
    "df_clean.set_index('datetime', inplace=True)\n",
    "\n",
    "print(\"Dataset with datetime as index:\")\n",
    "df_clean"
   ]
  },
  {
   "cell_type": "markdown",
   "metadata": {},
   "source": [
    "## 4. Data Visualization\n",
    "Let's create a visualization of the air quality measurements over time"
   ]
  },
  {
   "cell_type": "code",
   "execution_count": null,
   "metadata": {},
   "outputs": [],
   "source": [
    "plt.figure(figsize=(12, 6))\n",
    "\n",
    "# Plot each station's data\n",
    "plt.plot(df_clean.index, df_clean['station_antwerp'], 'o-', label='Antwerp')\n",
    "plt.plot(df_clean.index, df_clean['station_paris'], 's-', label='Paris')\n",
    "plt.plot(df_clean.index, df_clean['station_london'], '^-', label='London')\n",
    "\n",
    "plt.title('NO2 Air Quality Measurements Over Time', fontsize=16)\n",
    "plt.xlabel('Time')\n",
    "plt.ylabel('NO2 Concentration (μg/m³)')\n",
    "plt.legend()\n",
    "plt.grid(True)\n",
    "plt.xticks(rotation=45)\n",
    "plt.tight_layout()"
   ]
  },
  {
   "cell_type": "markdown",
   "metadata": {},
   "source": [
    "## 5. Statistical Analysis\n",
    "Calculate some basic statistics for each station"
   ]
  },
  {
   "cell_type": "code",
   "execution_count": null,
   "metadata": {},
   "outputs": [],
   "source": [
    "print(\"Basic Statistics for NO2 Measurements:\")\n",
    "stats = df_clean.describe()\n",
    "stats"
   ]
  },
  {
   "cell_type": "code",
   "execution_count": null,
   "metadata": {},
   "outputs": [],
   "source": [
    "# Calculate average NO2 level by station\n",
    "avg_by_station = df_clean.mean()\n",
    "print(\"Average NO2 Levels by Station:\")\n",
    "avg_by_station"
   ]
  },
  {
   "cell_type": "markdown",
   "metadata": {},
   "source": [
    "## 6. Handling Missing Values\n",
    "Several approaches can be used for missing values"
   ]
  },
  {
   "cell_type": "code",
   "execution_count": null,
   "metadata": {},
   "outputs": [],
   "source": [
    "print(\"Demonstrating different methods for handling missing values:\")\n",
    "\n",
    "# Method 1: Forward fill (use previous value)\n",
    "df_ffill = df_clean.ffill()\n",
    "print(\"\\nForward Fill Method:\")\n",
    "df_ffill"
   ]
  },
  {
   "cell_type": "code",
   "execution_count": null,
   "metadata": {},
   "outputs": [],
   "source": [
    "# Method 2: Backward fill (use next value)\n",
    "df_bfill = df_clean.bfill()\n",
    "print(\"\\nBackward Fill Method:\")\n",
    "df_bfill"
   ]
  },
  {
   "cell_type": "code",
   "execution_count": null,
   "metadata": {},
   "outputs": [],
   "source": [
    "# Method 3: Linear interpolation\n",
    "df_interp = df_clean.interpolate(method='linear')\n",
    "print(\"\\nLinear Interpolation Method:\")\n",
    "df_interp"
   ]
  },
  {
   "cell_type": "markdown",
   "metadata": {},
   "source": [
    "## 7. Visualizing Interpolated Data\n",
    "Let's visualize our data after interpolation"
   ]
  },
  {
   "cell_type": "code",
   "execution_count": null,
   "metadata": {},
   "outputs": [],
   "source": [
    "plt.figure(figsize=(12, 6))\n",
    "\n",
    "# Plot each station's interpolated data\n",
    "plt.plot(df_interp.index, df_interp['station_antwerp'], 'o-', label='Antwerp')\n",
    "plt.plot(df_interp.index, df_interp['station_paris'], 's-', label='Paris')\n",
    "plt.plot(df_interp.index, df_interp['station_london'], '^-', label='London')\n",
    "\n",
    "plt.title('Interpolated NO2 Air Quality Measurements', fontsize=16)\n",
    "plt.xlabel('Time')\n",
    "plt.ylabel('NO2 Concentration (μg/m³)')\n",
    "plt.legend()\n",
    "plt.grid(True)\n",
    "plt.xticks(rotation=45)\n",
    "plt.tight_layout()"
   ]
  },
  {
   "cell_type": "markdown",
   "metadata": {},
   "source": [
    "## 8. Comparing Stations\n",
    "Create a box plot to compare distributions"
   ]
  },
  {
   "cell_type": "code",
   "execution_count": null,
   "metadata": {},
   "outputs": [],
   "source": [
    "plt.figure(figsize=(10, 6))\n",
    "sns.boxplot(data=df_interp)\n",
    "plt.title('Distribution of NO2 Measurements by Station', fontsize=16)\n",
    "plt.ylabel('NO2 Concentration (μg/m³)')\n",
    "plt.xticks(rotation=0)\n",
    "plt.grid(True, axis='y')\n",
    "plt.tight_layout()"
   ]
  },
  {
   "cell_type": "markdown",
   "metadata": {},
   "source": [
    "## 9. Conclusion"
   ]
  },
  {
   "cell_type": "code",
   "execution_count": null,
   "metadata": {},
   "outputs": [],
   "source": [
    "print(\"\"\"\n",
    "Conclusion:\n",
    "- We've loaded and analyzed air quality (NO2) data from three European cities.\n",
    "- We've handled missing values using various techniques.\n",
    "- We've visualized the trends and distributions of the data.\n",
    "- Paris shows the highest average NO2 levels in this time period.\n",
    "- There is clear time-of-day variation in all stations.\n",
    "\"\"\")"
   ]
  },
  {
   "cell_type": "markdown",
   "metadata": {},
   "source": [
    "## 10. Exercise Ideas for Students"
   ]
  },
  {
   "cell_type": "code",
   "execution_count": null,
   "metadata": {},
   "outputs": [],
   "source": [
    "print(\"\"\"\n",
    "Exercise Ideas:\n",
    "1. Add more data processing options to handle missing values\n",
    "2. Create a correlation analysis between stations\n",
    "3. Identify peak pollution hours and possible causes\n",
    "4. Implement a simple forecasting model for future values\n",
    "5. Compare this data with other air quality indicators (PM2.5, CO2, etc.)\n",
    "\"\"\")"
   ]
  }
 ],
 "metadata": {
  "kernelspec": {
   "display_name": "Python 3",
   "language": "python",
   "name": "python3"
  },
  "language_info": {
   "codemirror_mode": {
    "name": "ipython",
    "version": 3
   },
   "file_extension": ".py",
   "mimetype": "text/x-python",
   "name": "python",
   "nbconvert_exporter": "python",
   "pygments_lexer": "ipython3",
   "version": "3.8.8"
  }
 },
 "nbformat": 4,
 "nbformat_minor": 4
}